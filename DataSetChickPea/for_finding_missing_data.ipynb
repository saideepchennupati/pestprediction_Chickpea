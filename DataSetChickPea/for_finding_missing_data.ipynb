{
 "cells": [
  {
   "cell_type": "code",
   "execution_count": 74,
   "metadata": {},
   "outputs": [],
   "source": [
    "import pandas as pd\n",
    "import numpy as np\n",
    "from sklearn import datasets, linear_model\n",
    "from sklearn.metrics import mean_squared_error, r2_score"
   ]
  },
  {
   "cell_type": "code",
   "execution_count": 106,
   "metadata": {},
   "outputs": [],
   "source": [
    "file = pd.ExcelFile(\"data.xlsx\")"
   ]
  },
  {
   "cell_type": "code",
   "execution_count": 107,
   "metadata": {},
   "outputs": [
    {
     "data": {
      "text/plain": [
       "['Sheet1', 'Sheet2', 'Sheet3']"
      ]
     },
     "execution_count": 107,
     "metadata": {},
     "output_type": "execute_result"
    }
   ],
   "source": [
    "file.sheet_names"
   ]
  },
  {
   "cell_type": "code",
   "execution_count": 108,
   "metadata": {},
   "outputs": [
    {
     "data": {
      "text/html": [
       "<div>\n",
       "<style scoped>\n",
       "    .dataframe tbody tr th:only-of-type {\n",
       "        vertical-align: middle;\n",
       "    }\n",
       "\n",
       "    .dataframe tbody tr th {\n",
       "        vertical-align: top;\n",
       "    }\n",
       "\n",
       "    .dataframe thead th {\n",
       "        text-align: right;\n",
       "    }\n",
       "</style>\n",
       "<table border=\"1\" class=\"dataframe\">\n",
       "  <thead>\n",
       "    <tr style=\"text-align: right;\">\n",
       "      <th></th>\n",
       "      <th>Year of survy</th>\n",
       "      <th>Month of year</th>\n",
       "      <th>Std-week No.</th>\n",
       "      <th>Helico-No.of(eggs/plant)</th>\n",
       "      <th>Helico-No.of(larvae/plant)</th>\n",
       "      <th>Helicoverpa(ph-trap-cat)</th>\n",
       "      <th>Helicoverpa(Lt-trap-cat)</th>\n",
       "      <th>Rainfall(mm)</th>\n",
       "      <th>Temperature(min)</th>\n",
       "      <th>Temperature(max)</th>\n",
       "      <th>RH(%)</th>\n",
       "      <th>Unnamed: 11</th>\n",
       "      <th>Unnamed: 12</th>\n",
       "      <th>Unnamed: 13</th>\n",
       "      <th>Unnamed: 14</th>\n",
       "    </tr>\n",
       "  </thead>\n",
       "  <tbody>\n",
       "    <tr>\n",
       "      <th>0</th>\n",
       "      <td>91</td>\n",
       "      <td>1.0</td>\n",
       "      <td>1.0</td>\n",
       "      <td>1.590198</td>\n",
       "      <td>1.741270</td>\n",
       "      <td>117.118091</td>\n",
       "      <td>15.466361</td>\n",
       "      <td>16.2</td>\n",
       "      <td>12.75</td>\n",
       "      <td>25.750000</td>\n",
       "      <td>68.250000</td>\n",
       "      <td>NaN</td>\n",
       "      <td>NaN</td>\n",
       "      <td>NaN</td>\n",
       "      <td>NaN</td>\n",
       "    </tr>\n",
       "    <tr>\n",
       "      <th>1</th>\n",
       "      <td>91</td>\n",
       "      <td>1.0</td>\n",
       "      <td>2.0</td>\n",
       "      <td>1.950940</td>\n",
       "      <td>1.641486</td>\n",
       "      <td>98.074119</td>\n",
       "      <td>13.563625</td>\n",
       "      <td>0.0</td>\n",
       "      <td>17.40</td>\n",
       "      <td>29.000000</td>\n",
       "      <td>70.800000</td>\n",
       "      <td>NaN</td>\n",
       "      <td>NaN</td>\n",
       "      <td>NaN</td>\n",
       "      <td>NaN</td>\n",
       "    </tr>\n",
       "    <tr>\n",
       "      <th>2</th>\n",
       "      <td>91</td>\n",
       "      <td>1.0</td>\n",
       "      <td>3.0</td>\n",
       "      <td>1.245563</td>\n",
       "      <td>1.706981</td>\n",
       "      <td>100.381251</td>\n",
       "      <td>14.009318</td>\n",
       "      <td>0.0</td>\n",
       "      <td>17.75</td>\n",
       "      <td>28.250000</td>\n",
       "      <td>69.250000</td>\n",
       "      <td>NaN</td>\n",
       "      <td>NaN</td>\n",
       "      <td>NaN</td>\n",
       "      <td>NaN</td>\n",
       "    </tr>\n",
       "    <tr>\n",
       "      <th>3</th>\n",
       "      <td>91</td>\n",
       "      <td>1.0</td>\n",
       "      <td>4.0</td>\n",
       "      <td>1.428084</td>\n",
       "      <td>1.174188</td>\n",
       "      <td>82.460056</td>\n",
       "      <td>11.761397</td>\n",
       "      <td>0.0</td>\n",
       "      <td>16.25</td>\n",
       "      <td>30.000000</td>\n",
       "      <td>64.750000</td>\n",
       "      <td>NaN</td>\n",
       "      <td>NaN</td>\n",
       "      <td>NaN</td>\n",
       "      <td>NaN</td>\n",
       "    </tr>\n",
       "    <tr>\n",
       "      <th>4</th>\n",
       "      <td>91</td>\n",
       "      <td>1.0</td>\n",
       "      <td>5.0</td>\n",
       "      <td>1.167308</td>\n",
       "      <td>1.409615</td>\n",
       "      <td>104.844785</td>\n",
       "      <td>12.050350</td>\n",
       "      <td>0.0</td>\n",
       "      <td>12.00</td>\n",
       "      <td>30.666667</td>\n",
       "      <td>47.333333</td>\n",
       "      <td>NaN</td>\n",
       "      <td>NaN</td>\n",
       "      <td>NaN</td>\n",
       "      <td>NaN</td>\n",
       "    </tr>\n",
       "  </tbody>\n",
       "</table>\n",
       "</div>"
      ],
      "text/plain": [
       "  Year of survy  Month of year  Std-week No.  Helico-No.of(eggs/plant)  \\\n",
       "0            91            1.0           1.0                  1.590198   \n",
       "1            91            1.0           2.0                  1.950940   \n",
       "2            91            1.0           3.0                  1.245563   \n",
       "3            91            1.0           4.0                  1.428084   \n",
       "4            91            1.0           5.0                  1.167308   \n",
       "\n",
       "   Helico-No.of(larvae/plant)  Helicoverpa(ph-trap-cat)  \\\n",
       "0                    1.741270                117.118091   \n",
       "1                    1.641486                 98.074119   \n",
       "2                    1.706981                100.381251   \n",
       "3                    1.174188                 82.460056   \n",
       "4                    1.409615                104.844785   \n",
       "\n",
       "   Helicoverpa(Lt-trap-cat)  Rainfall(mm)  Temperature(min)  Temperature(max)  \\\n",
       "0                 15.466361          16.2             12.75         25.750000   \n",
       "1                 13.563625           0.0             17.40         29.000000   \n",
       "2                 14.009318           0.0             17.75         28.250000   \n",
       "3                 11.761397           0.0             16.25         30.000000   \n",
       "4                 12.050350           0.0             12.00         30.666667   \n",
       "\n",
       "       RH(%)  Unnamed: 11  Unnamed: 12  Unnamed: 13  Unnamed: 14  \n",
       "0  68.250000          NaN          NaN          NaN          NaN  \n",
       "1  70.800000          NaN          NaN          NaN          NaN  \n",
       "2  69.250000          NaN          NaN          NaN          NaN  \n",
       "3  64.750000          NaN          NaN          NaN          NaN  \n",
       "4  47.333333          NaN          NaN          NaN          NaN  "
      ]
     },
     "execution_count": 108,
     "metadata": {},
     "output_type": "execute_result"
    }
   ],
   "source": [
    "data =file.parse(\"Sheet1\")\n",
    "data.head()"
   ]
  },
  {
   "cell_type": "code",
   "execution_count": 109,
   "metadata": {},
   "outputs": [
    {
     "data": {
      "text/plain": [
       "1"
      ]
     },
     "execution_count": 109,
     "metadata": {},
     "output_type": "execute_result"
    }
   ],
   "source": [
    "sum(pd.isnull(data['Helicoverpa(ph-trap-cat)']))"
   ]
  },
  {
   "cell_type": "code",
   "execution_count": 110,
   "metadata": {},
   "outputs": [
    {
     "data": {
      "text/plain": [
       "1"
      ]
     },
     "execution_count": 110,
     "metadata": {},
     "output_type": "execute_result"
    }
   ],
   "source": [
    "sum(pd.isnull(data['Helicoverpa(Lt-trap-cat)']))"
   ]
  },
  {
   "cell_type": "code",
   "execution_count": 111,
   "metadata": {},
   "outputs": [],
   "source": [
    "\n",
    "set_cols=['Helico-No.of(eggs/plant)','Helico-No.of(larvae/plant)','Helicoverpa(ph-trap-cat)','Helicoverpa(Lt-trap-cat)','Rainfall(mm)','Temperature(min)','Temperature(max)','RH(%)']\n",
    "D1=data[set_cols]\n",
    "D1=D1.drop(D1.index[len(D1)-1])"
   ]
  },
  {
   "cell_type": "code",
   "execution_count": 112,
   "metadata": {},
   "outputs": [
    {
     "name": "stdout",
     "output_type": "stream",
     "text": [
      "(379, 8)\n"
     ]
    }
   ],
   "source": [
    "#print(x)\n",
    "print(D1.shape)"
   ]
  },
  {
   "cell_type": "code",
   "execution_count": 113,
   "metadata": {},
   "outputs": [
    {
     "name": "stdout",
     "output_type": "stream",
     "text": [
      "(379, 8)\n",
      "     Helico-No.of(eggs/plant)  Helico-No.of(larvae/plant)  \\\n",
      "0                    1.590198                    1.741270   \n",
      "1                    1.950940                    1.641486   \n",
      "2                    1.245563                    1.706981   \n",
      "3                    1.428084                    1.174188   \n",
      "4                    1.167308                    1.409615   \n",
      "5                    0.328125                    1.051250   \n",
      "6                    0.558571                    1.075714   \n",
      "7                    0.623333                    1.076667   \n",
      "8                    0.437500                    0.800000   \n",
      "9                    1.550000                    1.250000   \n",
      "10                   3.800000                    0.975000   \n",
      "11                   0.625000                    2.600000   \n",
      "12                   0.891667                    1.158333   \n",
      "13                   0.000000                    0.925000   \n",
      "14                   0.000000                    1.233333   \n",
      "15                   0.000000                    0.000000   \n",
      "16                   0.000000                    0.000000   \n",
      "17                   0.000000                    0.000000   \n",
      "18                   0.000000                    0.100000   \n",
      "19                   0.000000                    0.200000   \n",
      "20                   0.000000                    0.250000   \n",
      "21                   0.000000                    0.150000   \n",
      "22                   0.000000                    0.100000   \n",
      "23                   0.000000                    0.150000   \n",
      "24                   0.133333                    0.333333   \n",
      "25                   0.350000                    0.333333   \n",
      "26                   0.533333                    0.550000   \n",
      "27                   0.475000                    0.725000   \n",
      "28                   0.533333                    0.833333   \n",
      "29                   0.133333                    0.566667   \n",
      "..                        ...                         ...   \n",
      "349                  2.044131                    1.353995   \n",
      "350                  3.358007                    1.847917   \n",
      "351                  2.474577                    1.380595   \n",
      "352                  1.994360                    1.263298   \n",
      "353                  1.595121                    1.013487   \n",
      "354                  2.344444                    1.151736   \n",
      "355                  1.501971                    1.726442   \n",
      "356                  1.119481                    0.788907   \n",
      "357                  0.668611                    2.766389   \n",
      "358                  0.190952                    1.039762   \n",
      "359                  0.242857                    1.247619   \n",
      "360                  0.657143                    0.819048   \n",
      "361                  0.283333                    0.366667   \n",
      "362                  0.183333                    0.358333   \n",
      "363                  0.042857                    0.450000   \n",
      "364                  0.300000                    1.100000   \n",
      "365                  0.000000                    0.000000   \n",
      "366                  0.000000                    0.000000   \n",
      "367                  0.200000                    0.000000   \n",
      "368                  0.000000                    1.500000   \n",
      "369                  0.533333                    0.066667   \n",
      "370                  0.719000                    1.426667   \n",
      "371                  1.142489                    1.447186   \n",
      "372                  1.121731                    1.514038   \n",
      "373                  2.809152                    0.682758   \n",
      "374                  2.840096                    0.630005   \n",
      "375                  2.723226                    0.911107   \n",
      "376                  3.683016                    0.937937   \n",
      "377                  4.193002                    1.731657   \n",
      "378                  2.218955                    0.772091   \n",
      "\n",
      "     Helicoverpa(ph-trap-cat)  Helicoverpa(Lt-trap-cat)  Rainfall(mm)  \\\n",
      "0                  117.118091                 15.466361          16.2   \n",
      "1                   98.074119                 13.563625           0.0   \n",
      "2                  100.381251                 14.009318           0.0   \n",
      "3                   82.460056                 11.761397           0.0   \n",
      "4                  104.844785                 12.050350           0.0   \n",
      "5                   76.931964                 10.488368           0.0   \n",
      "6                   76.687101                  7.984820           0.0   \n",
      "7                   72.238381                  8.635822           0.0   \n",
      "8                   56.826108                  7.611879           3.5   \n",
      "9                   69.752399                  7.420467           0.0   \n",
      "10                  83.255780                  7.336124           0.0   \n",
      "11                 108.041761                  7.587804           0.4   \n",
      "12                  63.318309                  5.289521           0.0   \n",
      "13                  43.061729                  2.426174          32.0   \n",
      "14                  72.388940                  5.927552           2.2   \n",
      "15                   4.225250                  3.267683          17.8   \n",
      "16                   8.773825                  0.923978          74.6   \n",
      "17                  16.512981                  5.187011          52.5   \n",
      "18                  11.848419                  1.620476          88.3   \n",
      "19                  28.225172                  8.716432           0.6   \n",
      "20                  31.417685                  8.607626           3.6   \n",
      "21                  14.547397                  3.055794          61.4   \n",
      "22                  16.279989                  3.454658          66.8   \n",
      "23                   5.500000                  6.750422          29.2   \n",
      "24                  37.200000                  8.269472          14.0   \n",
      "25                  42.200000                  8.622916           0.6   \n",
      "26                  34.900000                  7.995300          10.0   \n",
      "27                  50.500000                  7.398913           0.0   \n",
      "28                  20.400000                  2.954820          96.0   \n",
      "29                  14.000000                  8.765467           0.0   \n",
      "..                        ...                       ...           ...   \n",
      "349                 24.000000                 27.000000           0.0   \n",
      "350                 69.000000                 28.000000           3.1   \n",
      "351                214.000000                 13.000000           0.0   \n",
      "352                 49.000000                 14.000000           0.0   \n",
      "353                 66.000000                 12.000000           0.0   \n",
      "354                 91.000000                 10.000000           0.0   \n",
      "355                 69.000000                 10.000000          20.0   \n",
      "356                 92.000000                 11.000000           0.0   \n",
      "357                347.000000                  8.000000           0.0   \n",
      "358                313.000000                  7.000000           0.0   \n",
      "359                191.000000                  3.000000           0.0   \n",
      "360                 80.000000                  4.000000           0.0   \n",
      "361                 81.000000                  3.000000           0.0   \n",
      "362                149.000000                 10.000000           0.0   \n",
      "363                151.000000                  9.000000           0.0   \n",
      "364                139.000000                  4.000000           0.8   \n",
      "365                103.000000                  5.000000           0.6   \n",
      "366                 21.000000                  1.000000          14.9   \n",
      "367                 10.000000                 10.000000          14.5   \n",
      "368                 22.000000                  4.000000          20.3   \n",
      "369                 59.000000                  5.000000           0.0   \n",
      "370                  9.000000                 14.000000           0.0   \n",
      "371                 87.000000                 14.000000           4.2   \n",
      "372                155.000000                 20.000000           0.0   \n",
      "373                106.000000                  9.000000           0.0   \n",
      "374                 66.000000                 10.000000           0.0   \n",
      "375                 24.000000                  9.000000           0.0   \n",
      "376                 38.000000                  7.000000           0.0   \n",
      "377                 71.000000                  7.000000           0.0   \n",
      "378                198.000000                 15.000000           0.0   \n",
      "\n",
      "     Temperature(min)  Temperature(max)      RH(%)  \n",
      "0           12.750000         25.750000  68.250000  \n",
      "1           17.400000         29.000000  70.800000  \n",
      "2           17.750000         28.250000  69.250000  \n",
      "3           16.250000         30.000000  64.750000  \n",
      "4           12.000000         30.666667  47.333333  \n",
      "5           16.000000         30.750000  55.750000  \n",
      "6           17.000000         34.000000  43.500000  \n",
      "7           20.000000         33.000000  52.333333  \n",
      "8           19.500000         33.000000  56.500000  \n",
      "9           21.000000         35.000000  55.000000  \n",
      "10          20.000000         36.500000  47.000000  \n",
      "11          21.000000         37.000000  39.000000  \n",
      "12          23.000000         37.000000  45.000000  \n",
      "13          22.500000         36.000000  50.500000  \n",
      "14          22.000000         36.000000  38.000000  \n",
      "15          22.000000         34.000000  71.000000  \n",
      "16          23.500000         31.500000  73.000000  \n",
      "17          21.666667         28.666667  82.000000  \n",
      "18          22.000000         29.500000  80.000000  \n",
      "19          22.000000         30.000000  77.000000  \n",
      "20          23.000000         30.000000  75.500000  \n",
      "21          22.500000         30.500000  77.500000  \n",
      "22          22.000000         29.500000  79.000000  \n",
      "23          22.500000         29.500000  77.000000  \n",
      "24          21.666667         29.666667  76.000000  \n",
      "25          22.333333         31.000000  66.333333  \n",
      "26          24.000000         31.000000  73.333333  \n",
      "27          22.500000         33.000000  66.000000  \n",
      "28          22.000000         29.000000  80.333333  \n",
      "29          21.666667         31.000000  69.333333  \n",
      "..                ...               ...        ...  \n",
      "349         14.600000         30.200000  63.600000  \n",
      "350         16.000000         29.000000  69.333333  \n",
      "351          9.666667         29.333333  56.000000  \n",
      "352          9.666667         29.000000  53.333333  \n",
      "353          9.000000         28.500000  59.750000  \n",
      "354          9.000000         28.000000  57.500000  \n",
      "355         16.000000         28.000000  72.000000  \n",
      "356         14.500000         29.250000  59.500000  \n",
      "357         16.333333         30.333333  63.000000  \n",
      "358         11.333333         29.000000  55.000000  \n",
      "359         10.666667         31.000000  53.000000  \n",
      "360         13.666667         33.000000  51.000000  \n",
      "361         13.500000         32.500000  46.500000  \n",
      "362         15.333333         33.666667  49.333333  \n",
      "363         16.500000         35.000000  43.500000  \n",
      "364         19.000000         33.000000  63.000000  \n",
      "365         19.000000         35.000000  46.000000  \n",
      "366         22.000000         32.000000  62.000000  \n",
      "367         21.000000         29.000000  84.000000  \n",
      "368         19.000000         31.000000  72.000000  \n",
      "369         14.000000         30.000000  64.000000  \n",
      "370         16.000000         31.000000  67.000000  \n",
      "371         17.000000         30.000000  70.666667  \n",
      "372         17.000000         29.666667  66.000000  \n",
      "373         14.600000         30.200000  62.800000  \n",
      "374         12.500000         28.250000  66.000000  \n",
      "375          8.666667         29.333333  56.333333  \n",
      "376         11.000000         29.666667  61.333333  \n",
      "377         10.500000         28.750000  58.750000  \n",
      "378         12.600000         27.800000  63.400000  \n",
      "\n",
      "[379 rows x 8 columns]\n"
     ]
    }
   ],
   "source": [
    "t_s=D1.dropna()\n",
    "print(t_s.shape)\n",
    "print(t_s)"
   ]
  },
  {
   "cell_type": "code",
   "execution_count": 114,
   "metadata": {},
   "outputs": [
    {
     "name": "stdout",
     "output_type": "stream",
     "text": [
      "Empty DataFrame\n",
      "Columns: [Helico-No.of(eggs/plant), Helico-No.of(larvae/plant), Helicoverpa(ph-trap-cat), Helicoverpa(Lt-trap-cat), Rainfall(mm), Temperature(min), Temperature(max), RH(%)]\n",
      "Index: []\n"
     ]
    }
   ],
   "source": [
    "te_s =D1[~D1.isin(t_s).all(1)]\n",
    "print(te_s)"
   ]
  },
  {
   "cell_type": "code",
   "execution_count": 115,
   "metadata": {},
   "outputs": [],
   "source": [
    "X_col=['Helico-No.of(eggs/plant)','Helico-No.of(larvae/plant)','Rainfall(mm)','Temperature(min)','Temperature(max)','RH(%)']\n",
    "Y_col1=['Helicoverpa(ph-trap-cat)']\n",
    "Y_col2=['Helicoverpa(Lt-trap-cat)']\n",
    "X_train_set =t_s[X_col]\n",
    "Y_train_set1 =t_s[Y_col1]\n",
    "Y_train_set2 =t_s[Y_col2]\n",
    "X_test_set=te_s[X_col]"
   ]
  },
  {
   "cell_type": "code",
   "execution_count": 94,
   "metadata": {},
   "outputs": [
    {
     "data": {
      "text/plain": [
       "LinearRegression(copy_X=True, fit_intercept=True, n_jobs=1, normalize=False)"
      ]
     },
     "execution_count": 94,
     "metadata": {},
     "output_type": "execute_result"
    }
   ],
   "source": [
    "regr1 = linear_model.LinearRegression()\n",
    "regr2 = linear_model.LinearRegression()\n",
    "regr1.fit(X_train_set,Y_train_set1)\n",
    "regr2.fit(X_train_set,Y_train_set2)"
   ]
  },
  {
   "cell_type": "code",
   "execution_count": 95,
   "metadata": {},
   "outputs": [
    {
     "name": "stdout",
     "output_type": "stream",
     "text": [
      "Mean squared error: 5182.94\n",
      "Mean squared error: 119.39\n"
     ]
    }
   ],
   "source": [
    "y_pred1 = regr1.predict(X_train_set)\n",
    "y_pred2 = regr2.predict(X_train_set)\n",
    "print(\"Mean squared error: %.2f\" % mean_squared_error(Y_train_set1,y_pred1))\n",
    "print(\"Mean squared error: %.2f\" % mean_squared_error(Y_train_set2,y_pred2))"
   ]
  },
  {
   "cell_type": "code",
   "execution_count": 104,
   "metadata": {},
   "outputs": [],
   "source": [
    "Y_pred1=regr1.predict(X_test_set)\n",
    "Y_pred2=regr2.predict(X_test_set)"
   ]
  },
  {
   "cell_type": "code",
   "execution_count": 105,
   "metadata": {},
   "outputs": [],
   "source": [
    "pre1 = pd.DataFrame(Y_pred1)\n",
    "pre2 =pd.DataFrame(Y_pred2)\n",
    "writer = pd.ExcelWriter('pedic.xlsx', engine='xlsxwriter')\n",
    "pre1.to_excel(writer, sheet_name='Sheet1')\n",
    "pre2.to_excel(writer, sheet_name='Sheet2')\n",
    "writer.save()"
   ]
  },
  {
   "cell_type": "code",
   "execution_count": null,
   "metadata": {},
   "outputs": [],
   "source": []
  }
 ],
 "metadata": {
  "kernelspec": {
   "display_name": "Python 3",
   "language": "python",
   "name": "python3"
  },
  "language_info": {
   "codemirror_mode": {
    "name": "ipython",
    "version": 3
   },
   "file_extension": ".py",
   "mimetype": "text/x-python",
   "name": "python",
   "nbconvert_exporter": "python",
   "pygments_lexer": "ipython3",
   "version": "3.5.5"
  }
 },
 "nbformat": 4,
 "nbformat_minor": 2
}
